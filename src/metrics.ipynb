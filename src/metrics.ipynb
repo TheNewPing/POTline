{
 "cells": [
  {
   "cell_type": "markdown",
   "metadata": {},
   "source": [
    "# Introduction\n",
    "\n",
    "This notebook contains the calculation for additional metrics about the experiments.\n",
    "If you are using this repository for new experiments, use the following content only as an example."
   ]
  },
  {
   "cell_type": "code",
   "execution_count": 1,
   "metadata": {},
   "outputs": [],
   "source": [
    "from pathlib import Path\n",
    "from potline.metrics_builder import MetricsCalculator"
   ]
  },
  {
   "cell_type": "code",
   "execution_count": null,
   "metadata": {},
   "outputs": [
    {
     "name": "stdout",
     "output_type": "stream",
     "text": [
      "{(11, 5): 1742689.873877625}\n",
      "{(11, 5): 0.9}\n"
     ]
    }
   ],
   "source": [
    "pace_metrics = MetricsCalculator(Path('/scratch/p319875/POTline/full_test/pace/'))\n",
    "print(pace_metrics.calculate_q_factors([1]))\n",
    "print(pace_metrics.calculate_inference_time([1]))"
   ]
  },
  {
   "cell_type": "code",
   "execution_count": 3,
   "metadata": {},
   "outputs": [
    {
     "name": "stdout",
     "output_type": "stream",
     "text": [
      "{(1, 2): 0.05213709118905191, (3, 2): 0.052719208767813386}\n",
      "{(1, 2): 3.581, (3, 2): 3.553}\n"
     ]
    }
   ],
   "source": [
    "grace_metrics = MetricsCalculator(Path('/scratch/p319875/POTline/easy_test/grace_fs'))\n",
    "print(grace_metrics.calculate_q_factors())\n",
    "print(grace_metrics.calculate_inference_time())"
   ]
  },
  {
   "cell_type": "code",
   "execution_count": 2,
   "metadata": {},
   "outputs": [
    {
     "name": "stdout",
     "output_type": "stream",
     "text": [
      "{(1, 2): 0.05213709118905191, (3, 2): 0.052719208767813386}\n",
      "{(1, 2): 3.548, (3, 2): 3.549}\n"
     ]
    }
   ],
   "source": [
    "grace_metrics = MetricsCalculator(Path('/scratch/p319875/POTline/easy_test/grace_fs'))\n",
    "print(grace_metrics.calculate_q_factors())\n",
    "print(grace_metrics.calculate_inference_time())"
   ]
  },
  {
   "cell_type": "code",
   "execution_count": null,
   "metadata": {},
   "outputs": [
    {
     "name": "stdout",
     "output_type": "stream",
     "text": [
      "{(1, 2): 0.0521370911890519, (3, 2): 0.05271920876781339}\n",
      "{(1, 2): 0.896, (3, 2): 0.877}\n"
     ]
    }
   ],
   "source": [
    "grace_metrics = MetricsCalculator(Path('/scratch/p319875/POTline/easy_test/grace_fs'))\n",
    "print(grace_metrics.calculate_q_factors())\n",
    "print(grace_metrics.calculate_inference_time())\n",
    "#4,8"
   ]
  },
  {
   "cell_type": "code",
   "execution_count": null,
   "metadata": {},
   "outputs": [
    {
     "name": "stdout",
     "output_type": "stream",
     "text": [
      "{(1, 2): 0.0521370911890519, (3, 2): 0.05271920876781339}\n",
      "{(1, 2): 5.67, (3, 2): 10.64}\n"
     ]
    }
   ],
   "source": [
    "grace_metrics = MetricsCalculator(Path('/scratch/p319875/POTline/easy_test/grace_fs'))\n",
    "print(grace_metrics.calculate_q_factors())\n",
    "print(grace_metrics.calculate_inference_time())\n",
    "#32,1"
   ]
  },
  {
   "cell_type": "code",
   "execution_count": 6,
   "metadata": {},
   "outputs": [
    {
     "name": "stdout",
     "output_type": "stream",
     "text": [
      "{(1, 2): 0.0521370911890519, (3, 2): 0.05271920876781339}\n",
      "{(1, 2): 4.171, (3, 2): 4.134}\n"
     ]
    }
   ],
   "source": [
    "grace_metrics = MetricsCalculator(Path('/scratch/p319875/POTline/easy_test/grace_fs'))\n",
    "print(grace_metrics.calculate_q_factors())\n",
    "print(grace_metrics.calculate_inference_time())\n",
    "#4,1"
   ]
  },
  {
   "cell_type": "code",
   "execution_count": 7,
   "metadata": {},
   "outputs": [
    {
     "name": "stdout",
     "output_type": "stream",
     "text": [
      "{(1, 2): 0.0521370911890519, (3, 2): 0.05271920876781339}\n",
      "{(1, 2): 0.899, (3, 2): -0.001}\n"
     ]
    }
   ],
   "source": [
    "grace_metrics = MetricsCalculator(Path('/scratch/p319875/POTline/easy_test/grace_fs'))\n",
    "print(grace_metrics.calculate_q_factors())\n",
    "print(grace_metrics.calculate_inference_time())\n",
    "#4,1 bind core"
   ]
  },
  {
   "cell_type": "code",
   "execution_count": 2,
   "metadata": {},
   "outputs": [
    {
     "name": "stdout",
     "output_type": "stream",
     "text": [
      "{(1, 2): 0.0521370911890519, (3, 2): 0.05271920876781339}\n",
      "{(1, 2): 3.53, (3, 2): 3.568}\n"
     ]
    }
   ],
   "source": [
    "grace_metrics = MetricsCalculator(Path('/scratch/p319875/POTline/easy_test/grace_fs'))\n",
    "print(grace_metrics.calculate_q_factors())\n",
    "print(grace_metrics.calculate_inference_time())\n",
    "#1, 4 srun"
   ]
  },
  {
   "cell_type": "code",
   "execution_count": null,
   "metadata": {},
   "outputs": [
    {
     "name": "stdout",
     "output_type": "stream",
     "text": [
      "{(1, 2): 0.0521370911890519, (3, 2): 0.05271920876781339}\n",
      "{(1, 2): 0.94, (3, 2): 0.915}\n"
     ]
    }
   ],
   "source": [
    "grace_metrics = MetricsCalculator(Path('/scratch/p319875/POTline/easy_test/grace_fs'))\n",
    "print(grace_metrics.calculate_q_factors())\n",
    "print(grace_metrics.calculate_inference_time())\n",
    "#4,1 srun"
   ]
  }
 ],
 "metadata": {
  "kernelspec": {
   "display_name": "Python 3",
   "language": "python",
   "name": "python3"
  },
  "language_info": {
   "codemirror_mode": {
    "name": "ipython",
    "version": 3
   },
   "file_extension": ".py",
   "mimetype": "text/x-python",
   "name": "python",
   "nbconvert_exporter": "python",
   "pygments_lexer": "ipython3",
   "version": "3.12.8"
  }
 },
 "nbformat": 4,
 "nbformat_minor": 2
}
